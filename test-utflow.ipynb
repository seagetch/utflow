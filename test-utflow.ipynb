{
 "cells": [
  {
   "cell_type": "markdown",
   "metadata": {},
   "source": [
    "# Basic feature explanation\n",
    "\n",
    "## import libraries"
   ]
  },
  {
   "cell_type": "code",
   "execution_count": 21,
   "metadata": {},
   "outputs": [],
   "source": [
    "import sys,os\n",
    "sys.path.append(os.getcwd())\n",
    "import utflow\n",
    "import functools\n",
    "\n",
    "import logging\n",
    "logging.basicConfig(level=logging.DEBUG)"
   ]
  },
  {
   "cell_type": "markdown",
   "metadata": {},
   "source": [
    "## Basic structure of task definition and execution.\n",
    "\n",
    "### Step1: first run."
   ]
  },
  {
   "cell_type": "code",
   "execution_count": 22,
   "metadata": {},
   "outputs": [
    {
     "name": "stderr",
     "output_type": "stream",
     "text": [
      "DEBUG:utflow.task:Dump state of task '1st'\n",
      "DEBUG:utflow.task:Dump state of task '2nd'\n",
      "DEBUG:utflow.task:Dump state of task 'last'\n"
     ]
    },
    {
     "name": "stdout",
     "output_type": "stream",
     "text": [
      "1st:  5 3\n",
      "2nd: 5,3\n",
      "3rd: x=10\n",
      "3rd: z=20\n"
     ]
    }
   ],
   "source": [
    "flow = utflow.TaskFlow()\n",
    "\n",
    "with flow.next(\"1st\") as task:\n",
    "    with task.start() as _:\n",
    "        _.x = 5\n",
    "        _.y = 3\n",
    "        print(\"1st: \", _.x, _.y)\n",
    "        # context '_' is saved as pickle file in '.taskflow' directory after task execution.\n",
    "\n",
    "with flow.next(\"2nd\") as task:\n",
    "    with task.start() as _:\n",
    "        print(\"2nd: %s,%s\"%(_.x, _.y))\n",
    "        _.x = 10\n",
    "        _.z = 20\n",
    "\n",
    "with flow.next(\"last\") as task:\n",
    "    with task.start() as _:\n",
    "        print(\"3rd: x=%s\"%_.x)\n",
    "        print(\"3rd: z=%s\"%_.z)"
   ]
  },
  {
   "cell_type": "markdown",
   "metadata": {},
   "source": [
    "### Step2: Restart from '2nd' task"
   ]
  },
  {
   "cell_type": "code",
   "execution_count": 23,
   "metadata": {},
   "outputs": [
    {
     "name": "stderr",
     "output_type": "stream",
     "text": [
      "DEBUG:utflow.taskflow: Skipped task '1st'\n",
      "DEBUG:utflow.task:Load state of previous task '1st'\n",
      "DEBUG:utflow.task:Dump state of task '2nd'\n",
      "DEBUG:utflow.task:Dump state of task 'last'\n"
     ]
    },
    {
     "name": "stdout",
     "output_type": "stream",
     "text": [
      "2nd: 10,3\n",
      "3rd: x=10\n",
      "3rd: z=20\n"
     ]
    }
   ],
   "source": [
    "flow = utflow.TaskFlow(start=\"2nd\")\n",
    "\n",
    "with flow.next(\"1st\") as task:\n",
    "    with task.start() as _:\n",
    "        _.x = 5\n",
    "        _.y = 3\n",
    "        print(\"1st: \", _.x, _.y)\n",
    "\n",
    "with flow.next(\"2nd\") as task:\n",
    "    with task.start() as _:\n",
    "        print(\"2nd: %s,%s\"%(_.x, _.y))\n",
    "        _.x = 10\n",
    "        _.z = 20\n",
    "\n",
    "with flow.next(\"last\") as task:\n",
    "    with task.start() as _:\n",
    "        print(\"3rd: x=%s\"%_.x)\n",
    "        print(\"3rd: z=%s\"%_.z)"
   ]
  },
  {
   "cell_type": "markdown",
   "metadata": {},
   "source": [
    "### Step3: restart from 'last' task "
   ]
  },
  {
   "cell_type": "code",
   "execution_count": 24,
   "metadata": {},
   "outputs": [
    {
     "name": "stderr",
     "output_type": "stream",
     "text": [
      "DEBUG:utflow.taskflow: Skipped task '1st'\n",
      "DEBUG:utflow.taskflow: Skipped task '2nd'\n",
      "DEBUG:utflow.task:Load state of previous task '2nd'\n",
      "DEBUG:utflow.task:Dump state of task 'last'\n"
     ]
    },
    {
     "name": "stdout",
     "output_type": "stream",
     "text": [
      "3rd: x=10\n",
      "3rd: z=20\n"
     ]
    }
   ],
   "source": [
    "flow = utflow.TaskFlow(start=\"last\")\n",
    "\n",
    "with flow.next(\"1st\") as task:\n",
    "    with task.start() as _:\n",
    "        _.x = 5\n",
    "        _.y = 3\n",
    "        print(\"1st: \", _.x, _.y)\n",
    "\n",
    "with flow.next(\"2nd\") as task:\n",
    "    with task.start() as _:\n",
    "        print(\"2nd: %s,%s\"%(_.x, _.y))\n",
    "        _.x = 10\n",
    "        _.z = 20\n",
    "\n",
    "with flow.next(\"last\") as task:\n",
    "    with task.start() as _:\n",
    "        print(\"3rd: x=%s\"%_.x)\n",
    "        print(\"3rd: z=%s\"%_.z)"
   ]
  },
  {
   "cell_type": "markdown",
   "metadata": {},
   "source": [
    "### Step4: stop at '2nd' task\n",
    "Only '1st' task is executed."
   ]
  },
  {
   "cell_type": "code",
   "execution_count": 25,
   "metadata": {},
   "outputs": [
    {
     "name": "stderr",
     "output_type": "stream",
     "text": [
      "DEBUG:utflow.task:Dump state of task '1st'\n",
      "DEBUG:utflow.taskflow: Skipped task '2nd'\n",
      "DEBUG:utflow.taskflow: Skipped task 'last'\n"
     ]
    },
    {
     "name": "stdout",
     "output_type": "stream",
     "text": [
      "1st:  5 3\n"
     ]
    }
   ],
   "source": [
    "flow = utflow.TaskFlow(end=\"2nd\")\n",
    "\n",
    "with flow.next(\"1st\") as task:\n",
    "    with task.start() as _:\n",
    "        _.x = 5\n",
    "        _.y = 3\n",
    "        print(\"1st: \", _.x, _.y)\n",
    "\n",
    "with flow.next(\"2nd\") as task:\n",
    "    with task.start() as _:\n",
    "        print(\"2nd: %s,%s\"%(_.x, _.y))\n",
    "        _.x = 10\n",
    "        _.z = 20\n",
    "\n",
    "with flow.next(\"last\") as task:\n",
    "    with task.start() as _:\n",
    "        print(\"3rd: x=%s\"%_.x)\n",
    "        print(\"3rd: z=%s\"%_.z)"
   ]
  },
  {
   "cell_type": "markdown",
   "metadata": {},
   "source": [
    "## Conditional execution of Task"
   ]
  },
  {
   "cell_type": "code",
   "execution_count": 26,
   "metadata": {},
   "outputs": [
    {
     "name": "stderr",
     "output_type": "stream",
     "text": [
      "DEBUG:utflow.task:Dump state of task '1st'\n",
      "DEBUG:utflow.task:Duplicate state of task '1st' as '2nd'\n",
      "DEBUG:utflow.taskflow: Conditionally skipped task '2nd'\n",
      "DEBUG:utflow.task:Dump state of task '2nd'\n",
      "DEBUG:utflow.task:Dump state of task 'last'\n"
     ]
    },
    {
     "name": "stdout",
     "output_type": "stream",
     "text": [
      "1st:  5 3\n",
      "2nd -- x>=5\n",
      "2nd: 5,3\n",
      "3rd: x=9\n",
      "3rd: z=4\n"
     ]
    }
   ],
   "source": [
    "flow = utflow.TaskFlow()\n",
    "\n",
    "with flow.next(\"1st\") as task:\n",
    "    with task.start() as _:\n",
    "        _.x = 5\n",
    "        _.y = 3\n",
    "        print(\"1st: \", _.x, _.y)\n",
    "\n",
    "# Task is executed if 'x' in context is less than 5.\n",
    "with flow.next(\"2nd\", when=lambda _: _.x < 5) as task:\n",
    "    with task.start() as _:\n",
    "        print(\"2nd -- x<5\")\n",
    "        print(\"2nd: %s,%s\"%(_.x, _.y))\n",
    "        _.x = 1\n",
    "        _.z = 2\n",
    "\n",
    "# Task is executed if 'x' in context is greater than or equal to 5\n",
    "with flow.next(\"2nd\", when=lambda _: _.x >=5) as task:\n",
    "    with task.start() as _:\n",
    "        print(\"2nd -- x>=5\")\n",
    "        print(\"2nd: %s,%s\"%(_.x, _.y))\n",
    "        _.x = 9\n",
    "        _.z = 4\n",
    "\n",
    "with flow.next(\"last\") as task:\n",
    "    with task.start() as _:\n",
    "        print(\"3rd: x=%s\"%_.x)\n",
    "        print(\"3rd: z=%s\"%_.z)"
   ]
  },
  {
   "cell_type": "markdown",
   "metadata": {},
   "source": [
    "## Substitution of context using '<<' operator"
   ]
  },
  {
   "cell_type": "code",
   "execution_count": 27,
   "metadata": {},
   "outputs": [
    {
     "name": "stderr",
     "output_type": "stream",
     "text": [
      "DEBUG:utflow.task:Dump state of task '0'\n"
     ]
    },
    {
     "name": "stdout",
     "output_type": "stream",
     "text": [
      "1\n",
      "XXX\n"
     ]
    }
   ],
   "source": [
    "kwargs = {\"test1\": 1, \"test2\": 2}\n",
    "flow = utflow.TaskFlow()\n",
    "\n",
    "state = utflow.Context()\n",
    "state.xxx = \"XXX\"\n",
    "\n",
    "with flow.next() as task:\n",
    "    with task.start() as _:\n",
    "        _ << kwargs << state\n",
    "        print(_.test1)\n",
    "        print(_.xxx)"
   ]
  },
  {
   "cell_type": "markdown",
   "metadata": {},
   "source": [
    "## Pipe like interface for Context and functions using '>>' operator"
   ]
  },
  {
   "cell_type": "code",
   "execution_count": 28,
   "metadata": {},
   "outputs": [
    {
     "name": "stderr",
     "output_type": "stream",
     "text": [
      "DEBUG:utflow.task:Dump state of task '0'\n"
     ]
    },
    {
     "name": "stdout",
     "output_type": "stream",
     "text": [
      "Hello, world\n",
      "Hello, world-Hello, world\n",
      "\n",
      "Hello, world\n",
      "Hello, world-Hello, world\n",
      "\n",
      "['Hello, world']\n",
      "\n",
      "Hello, world\n",
      "\n",
      "Hello, world\n",
      "Hello, world\n"
     ]
    }
   ],
   "source": [
    "flow = utflow.TaskFlow()\n",
    "\n",
    "def hello(greeting, name):\n",
    "    text = \"%s, %s\"%(greeting, name)\n",
    "    return {\"text\": text, \"text2\": \"%s-%s\"%(text, text) }\n",
    "\n",
    "def to_list(text):\n",
    "    return [text]\n",
    "\n",
    "def print_text(text):\n",
    "    print(text)\n",
    "    return text\n",
    "\n",
    "with flow.next() as task:\n",
    "    with task.start() as _:\n",
    "        \n",
    "        _.greeting = \"Hello\"\n",
    "        _.name     = \"world\"\n",
    "        \n",
    "        # Passing context to function as arguments, and get result wrapped by context.\n",
    "        c = _ >> hello\n",
    "        print(c.text)\n",
    "        print(c.text2)\n",
    "        print()\n",
    "        \n",
    "        # If result of function call is dict, '>>' put all the keys to target context\n",
    "        _ >> hello >> _\n",
    "        print(_.text)\n",
    "        print(_.text2)\n",
    "        print()\n",
    "        \n",
    "        # Function can be piped. \n",
    "        # If result of function call is dict, '>>' operator select appropriate keys from dict, and put them as '**kwargs' in next function call.\n",
    "        c = _ >> hello >> to_list\n",
    "        \n",
    "        # If result of function call is not dict, '>>' put result to '_' attribute.\n",
    "        print(c._)\n",
    "        print()\n",
    "        \n",
    "        # If result of function call is list, '>>' operator pass list as '*args' in next function call.\n",
    "        _ >> hello >> to_list >> print_text\n",
    "        print()\n",
    "        \n",
    "        # If result of cuntion call is not a list, nor dict, '>>' operator pass '_' variable as a first argument in next function call.        \n",
    "        _ >> hello >> to_list >> print_text >> print_text"
   ]
  },
  {
   "cell_type": "markdown",
   "metadata": {},
   "source": [
    "## Task definition by decorator and function\n",
    "Instead of calling `with task.start()`, you can use `@flow.start_next()` decorator and function to define a task.\n",
    "\n",
    "Defined function is called immediately.\n",
    "\n",
    "### Step1: Start from first task"
   ]
  },
  {
   "cell_type": "code",
   "execution_count": 29,
   "metadata": {},
   "outputs": [
    {
     "name": "stderr",
     "output_type": "stream",
     "text": [
      "DEBUG:utflow.task:Dump state of task 'test1'\n",
      "DEBUG:utflow.task:Dump state of task 'test2'\n"
     ]
    },
    {
     "name": "stdout",
     "output_type": "stream",
     "text": [
      "Assignment\n",
      "call_test\n",
      "100\n"
     ]
    }
   ],
   "source": [
    "flow = utflow.TaskFlow()\n",
    "\n",
    "@flow.start_next()\n",
    "def test1(_):\n",
    "    print(\"Assignment\")\n",
    "    _.a = \"call_test\"\n",
    "    _.b = 100\n",
    "\n",
    "@flow.start_next()\n",
    "def test2(_):\n",
    "    print(_.a)\n",
    "    print(_.b)"
   ]
  },
  {
   "cell_type": "markdown",
   "metadata": {},
   "source": [
    "### Step2: Skipped test1"
   ]
  },
  {
   "cell_type": "code",
   "execution_count": 30,
   "metadata": {},
   "outputs": [
    {
     "name": "stderr",
     "output_type": "stream",
     "text": [
      "DEBUG:utflow.taskflow: Skipped task 'test1'\n",
      "DEBUG:utflow.task:Load state of previous task 'test1'\n",
      "DEBUG:utflow.task:Dump state of task 'test2'\n"
     ]
    },
    {
     "name": "stdout",
     "output_type": "stream",
     "text": [
      "call_test\n",
      "100\n"
     ]
    }
   ],
   "source": [
    "flow = utflow.TaskFlow(start=\"test2\")\n",
    "\n",
    "@flow.start_next()\n",
    "def test1(_):\n",
    "    print(\"Assignment\")\n",
    "    _.a = \"call_test\"\n",
    "    _.b = 100\n",
    "\n",
    "@flow.start_next()\n",
    "def test2(_):\n",
    "    print(_.a)\n",
    "    print(_.b)"
   ]
  },
  {
   "cell_type": "markdown",
   "metadata": {},
   "source": [
    "## Partial binding of function parameters"
   ]
  },
  {
   "cell_type": "code",
   "execution_count": 31,
   "metadata": {},
   "outputs": [
    {
     "name": "stderr",
     "output_type": "stream",
     "text": [
      "DEBUG:utflow.task:Dump state of task 'test1'\n"
     ]
    },
    {
     "name": "stdout",
     "output_type": "stream",
     "text": [
      "case1\n",
      "test3: Hello, world: Hello, world-Hello, world\n",
      "\n",
      "case2: functools.partial\n",
      "       bound positional(text), and additionaly set by kwargs (text, text2)\n",
      "test3: , is the greeting: Hello, world-Hello, world\n",
      "\n",
      "case3: partial_lazy\n",
      "       bound positional(wildcard), and additionaly set by kwargs (text, text2)\n",
      "       positional argument is ignored.\n",
      "test3: Hello, world: Hello, world-Hello, world\n",
      "\n",
      "case4: functools.partial, bound positional (text1)\n",
      "test4: , is the greeting: Hello, world\n",
      "\n",
      "case5: functools.partial, bound keyword (text2)\n",
      "test4: Hello, world: , is the greeting\n",
      "\n",
      "case6: partial_lazy, bound positional (wildcard)\n",
      "       positional argument is interpreted as second positional variable\n",
      "test4: Hello, world: , is the greeting\n",
      "\n",
      "case7: partial_lazy, bound keyword (text2)\n",
      "test4: Hello, world: , is the greeting\n",
      "\n"
     ]
    }
   ],
   "source": [
    "import functools\n",
    "from utflow.functools import partial_lazy\n",
    "\n",
    "def hello(greeting, name):\n",
    "    text = \"%s, %s\"%(greeting, name)\n",
    "    return {\"text\": text, \"text2\": \"%s-%s\"%(text, text) }\n",
    "\n",
    "def to_obj(text):\n",
    "    return text\n",
    "\n",
    "def test3(text, text2):\n",
    "    print(\"test3: %s: %s\"%(text, text2))\n",
    "    \n",
    "def test4(text1, text2):\n",
    "    print(\"test4: %s: %s\"%(text1, text2))\n",
    "\n",
    "def endl():\n",
    "    print()\n",
    "\n",
    "flow = utflow.TaskFlow()\n",
    "\n",
    "@flow.start_next()\n",
    "def test1(_):\n",
    "    _.greeting = \"Hello\"\n",
    "    _.name = \"world\"\n",
    "    \n",
    "    # case1: 'text' and 'text2' are used as input arguments for test3 \n",
    "    print(\"case1\")\n",
    "    _ >> hello >> test3 >> endl\n",
    "    \n",
    "    # case2: 'text' is given by 'functools.partial' as first positional argument.\n",
    "    #        'text' field in the result of 'hello' is overwritten.\n",
    "    print(\"case2: functools.partial\")\n",
    "    print(\"       bound positional(text), and additionaly set by kwargs (text, text2)\")\n",
    "    _ >> hello >> functools.partial(test3, \", is the greeting\") >> endl\n",
    "    \n",
    "    # case3: 'text' and 'text2' are used as input arguments for test3.\n",
    "    #        bound parameter of 'partial_lazy' is ignored.\n",
    "    print(\"case3: partial_lazy\")\n",
    "    print(\"       bound positional(wildcard), and additionaly set by kwargs (text, text2)\")\n",
    "    print(\"       positional argument is ignored.\")\n",
    "    _ >> hello >> partial_lazy(test3, \", is the greeting\") >> endl\n",
    "    \n",
    "    # case4: 'text' is given by 'functools.partial' as keyword argument. \n",
    "    #        'text2' is given as a second positional parameter args, which is passed from result of 'to_obj'\n",
    "    print(\"case4: functools.partial, bound positional (text1)\")\n",
    "    _ >> hello >> to_obj >> functools.partial(test4, \", is the greeting\") >> endl\n",
    "\n",
    "    # case5: 'text1' is given as a first positional args, which is passed from result of 'to_obj',\n",
    "    #        'text2' is given by 'functools.partial' as keyword argument. \n",
    "    print(\"case5: functools.partial, bound keyword (text2)\")\n",
    "    _ >> hello >> to_obj >> functools.partial(test4, text2=\", is the greeting\") >> endl\n",
    "\n",
    "    # case6: non-named result of 'to_obj' is treated as a first positional args for test4,\n",
    "    #        and 'text2' is given by 'partial_lazy' as the second positional argument.\n",
    "    print(\"case6: partial_lazy, bound positional (wildcard)\")\n",
    "    print(\"       positional argument is interpreted as second positional variable\")\n",
    "    _ >> hello >> to_obj >> partial_lazy(test4, \", is the greeting\") >> endl\n",
    "\n",
    "    # case7: when using 'partial_lazy' with kwargs, result is same as case5 and case6.\n",
    "    print(\"case7: partial_lazy, bound keyword (text2)\")\n",
    "    _ >> hello >> to_obj >> partial_lazy(test4, text2=\", is the greeting\") >> endl"
   ]
  },
  {
   "cell_type": "markdown",
   "metadata": {},
   "source": [
    "## Task definition by lambda"
   ]
  },
  {
   "cell_type": "code",
   "execution_count": 32,
   "metadata": {},
   "outputs": [
    {
     "name": "stderr",
     "output_type": "stream",
     "text": [
      "DEBUG:utflow.task:Dump state of task 'test1'\n",
      "DEBUG:utflow.task:Dump state of task 'test2'\n"
     ]
    },
    {
     "name": "stdout",
     "output_type": "stream",
     "text": [
      "test3: Goodby, guys: Goodby, guys-Goodby, guys\n",
      "\n",
      "test4: Goodby, guys: , is the greeting\n",
      "\n"
     ]
    },
    {
     "data": {
      "text/plain": [
       "<utflow.context.Context at 0x7f190c637550>"
      ]
     },
     "execution_count": 32,
     "metadata": {},
     "output_type": "execute_result"
    }
   ],
   "source": [
    "import functools\n",
    "from utflow.functools import partial_lazy\n",
    "\n",
    "def hello(greeting, name):\n",
    "    text = \"%s, %s\"%(greeting, name)\n",
    "    return {\"text\": text, \"text2\": \"%s-%s\"%(text, text) }\n",
    "\n",
    "def to_obj(text):\n",
    "    return text\n",
    "\n",
    "def test3(text, text2):\n",
    "    print(\"test3: %s: %s\"%(text, text2))\n",
    "    \n",
    "def test4(text1, text2):\n",
    "    print(\"test4: %s: %s\"%(text1, text2))\n",
    "\n",
    "def endl():\n",
    "    print()\n",
    "\n",
    "flow = utflow.TaskFlow()\n",
    "\n",
    "flow.start_next(\"test1\")(\n",
    "    lambda _: _(greeting = \"Goodby\", name = \"guys\") >> hello >> test3 >> endl\n",
    ")\n",
    "\n",
    "flow.start_next(\"test2\")(\n",
    "    lambda _: _ >> hello >> to_obj >> partial_lazy(test4, \", is the greeting\") >> endl\n",
    ")"
   ]
  },
  {
   "cell_type": "markdown",
   "metadata": {},
   "source": [
    "# Best practice\n",
    "\n",
    "## Play with session related resource\n",
    "If `context` object is passed on `TaskFlow` construction, that is treated as session Context.\n",
    "\n",
    "All attributes of session Context are referred from `Context` object passed to task, however those value is not saved after task execution.\n",
    "\n",
    "TCP connection, File IO, and other resources those belongs to process should be stored in session Context object.\n",
    "\n",
    "### Step1: first run of the connection-managed tasks."
   ]
  },
  {
   "cell_type": "code",
   "execution_count": 33,
   "metadata": {},
   "outputs": [
    {
     "name": "stderr",
     "output_type": "stream",
     "text": [
      "DEBUG:utflow.task:Dump state of task 'test1'\n",
      "DEBUG:utflow.task:Dump state of task 'test2'\n"
     ]
    },
    {
     "name": "stdout",
     "output_type": "stream",
     "text": [
      "Test play1[XXXXXX]: Good morning, sir\n",
      "Test play2[XXXXXX]: Good morning, sir, <<<Good morning, sir>>>\n",
      "\n",
      "Test play1[XXXXXX]: Good afternoon, dear\n",
      "Test play2[XXXXXX]: Good afternoon, dear, <<<Good afternoon, dear>>>\n",
      "\n"
     ]
    }
   ],
   "source": [
    "import tempfile\n",
    "import os\n",
    "\n",
    "class Session:\n",
    "    def __init__(self):\n",
    "        pass\n",
    "    \n",
    "    def login(self, credential):\n",
    "        # Do some initialization to connect other services.\n",
    "        self.credential = credential\n",
    "        \n",
    "    def login2(self, *args, **kwargs):\n",
    "        self.path = tempfile.mktemp()\n",
    "        self.connection = open(self.path,\"w\")\n",
    "    \n",
    "    def logout(self):\n",
    "        os.remove(self.path)\n",
    "    \n",
    "    def play1(self, greeting, name):\n",
    "        result = \"%s %s\"%(greeting, name)\n",
    "        print(\"Test play1[%s]: %s\"%(self.credential, result))\n",
    "        return {\"text\": result, \"text2\": \"<<<%s>>>\"%result }\n",
    "    \n",
    "    def play2(self, text, text2):\n",
    "        print(\"Test play2[%s]: %s, %s\"%(self.credential, text, text2))\n",
    "        return None\n",
    "\n",
    "def endl():\n",
    "    print()\n",
    "\n",
    "flow = utflow.TaskFlow()\n",
    "\n",
    "\n",
    "# Execute initializer task, which result is not stored.\n",
    "# Resource related to process should be initialized here.\n",
    "# You can use `flow.start_init()` for decorator-style task definition.\n",
    "\n",
    "with flow.init() as task:\n",
    "    with task.start() as _:\n",
    "        _.session = Session()\n",
    "        _.session.login(\"XXXXXX\")\n",
    "\n",
    "\n",
    "with flow.next(\"test1\") as task:\n",
    "    with task.start() as _:\n",
    "        _(greeting=\"Good morning,\", name = \"sir\") >> _.session.play1 >> _.session.play2 >> endl\n",
    "\n",
    "with flow.next(\"test2\") as task:\n",
    "    with task.start() as _:\n",
    "        _(greeting=\"Good afternoon,\", name = \"dear\") >> _.session.play1 >> _.session.play2 >> endl\n"
   ]
  },
  {
   "cell_type": "markdown",
   "metadata": {},
   "source": [
    "### Step2: restart from 'test2' task with another connections"
   ]
  },
  {
   "cell_type": "code",
   "execution_count": 34,
   "metadata": {},
   "outputs": [
    {
     "name": "stderr",
     "output_type": "stream",
     "text": [
      "DEBUG:utflow.taskflow: Skipped task 'test1'\n",
      "DEBUG:utflow.task:Load state of previous task 'test1'\n",
      "DEBUG:utflow.task:Dump state of task 'test2'\n"
     ]
    },
    {
     "name": "stdout",
     "output_type": "stream",
     "text": [
      "Test play1[YYYYYY]: Good afternoon, dear\n",
      "Test play2[YYYYYY]: Good afternoon, dear, <<<Good afternoon, dear>>>\n",
      "\n"
     ]
    }
   ],
   "source": [
    "flow = utflow.TaskFlow(start=\"test2\")\n",
    "\n",
    "\n",
    "# In second run of the proceess, another one-time token 'YYYYYY' is used.\n",
    "with flow.init() as task:\n",
    "    with task.start() as _:\n",
    "        _.session = Session()\n",
    "        _.session.login(\"YYYYYY\")\n",
    "\n",
    "\n",
    "with flow.next(\"test1\") as task:\n",
    "    with task.start() as _:\n",
    "        _(greeting=\"Good morning,\", name = \"sir\") >> _.session.play1 >> _.session.play2 >> endl\n",
    "\n",
    "with flow.next(\"test2\") as task:\n",
    "    with task.start() as _:\n",
    "        _(greeting=\"Good afternoon,\", name = \"dear\") >> _.session.play1 >> _.session.play2 >> endl\n"
   ]
  },
  {
   "cell_type": "markdown",
   "metadata": {},
   "source": [
    "## Anti patterns\n",
    "\n",
    "### Anti pattern 1: storing session object in the task.\n",
    "\n",
    "`TypeError` exception is raised at the end of `test1` because file / connection cannnot be serialized."
   ]
  },
  {
   "cell_type": "code",
   "execution_count": 15,
   "metadata": {},
   "outputs": [
    {
     "name": "stderr",
     "output_type": "stream",
     "text": [
      "DEBUG:utflow.task:Dump state of task 'test1'\n"
     ]
    },
    {
     "ename": "TypeError",
     "evalue": "cannot serialize '_io.TextIOWrapper' object",
     "output_type": "error",
     "traceback": [
      "\u001b[0;31m---------------------------------------------------------------------------\u001b[0m",
      "\u001b[0;31mTypeError\u001b[0m                                 Traceback (most recent call last)",
      "\u001b[0;32m<ipython-input-15-071fa54e64be>\u001b[0m in \u001b[0;36m<module>\u001b[0;34m\u001b[0m\n\u001b[1;32m      3\u001b[0m \u001b[0msession\u001b[0m\u001b[0;34m.\u001b[0m\u001b[0mlogin2\u001b[0m\u001b[0;34m(\u001b[0m\u001b[0;34m)\u001b[0m\u001b[0;34m\u001b[0m\u001b[0;34m\u001b[0m\u001b[0m\n\u001b[1;32m      4\u001b[0m \u001b[0;34m\u001b[0m\u001b[0m\n\u001b[0;32m----> 5\u001b[0;31m \u001b[0;34m@\u001b[0m\u001b[0mflow\u001b[0m\u001b[0;34m.\u001b[0m\u001b[0mstart_next\u001b[0m\u001b[0;34m(\u001b[0m\u001b[0;34m)\u001b[0m\u001b[0;34m\u001b[0m\u001b[0;34m\u001b[0m\u001b[0m\n\u001b[0m\u001b[1;32m      6\u001b[0m \u001b[0;32mdef\u001b[0m \u001b[0mtest1\u001b[0m\u001b[0;34m(\u001b[0m\u001b[0m_\u001b[0m\u001b[0;34m)\u001b[0m\u001b[0;34m:\u001b[0m\u001b[0;34m\u001b[0m\u001b[0;34m\u001b[0m\u001b[0m\n\u001b[1;32m      7\u001b[0m     \u001b[0m_\u001b[0m\u001b[0;34m.\u001b[0m\u001b[0msession\u001b[0m \u001b[0;34m=\u001b[0m \u001b[0msession\u001b[0m\u001b[0;34m\u001b[0m\u001b[0;34m\u001b[0m\u001b[0m\n",
      "\u001b[0;32m~/jupyter/utflow/utflow/taskflow.py\u001b[0m in \u001b[0;36mdecorator\u001b[0;34m(func)\u001b[0m\n\u001b[1;32m     58\u001b[0m             \u001b[0;32mtry\u001b[0m\u001b[0;34m:\u001b[0m\u001b[0;34m\u001b[0m\u001b[0;34m\u001b[0m\u001b[0m\n\u001b[1;32m     59\u001b[0m                 \u001b[0;32mwith\u001b[0m \u001b[0mtask\u001b[0m\u001b[0;34m.\u001b[0m\u001b[0mstart\u001b[0m\u001b[0;34m(\u001b[0m\u001b[0;34m)\u001b[0m \u001b[0;32mas\u001b[0m \u001b[0m_\u001b[0m\u001b[0;34m:\u001b[0m\u001b[0;34m\u001b[0m\u001b[0;34m\u001b[0m\u001b[0m\n\u001b[0;32m---> 60\u001b[0;31m                     \u001b[0;32mreturn\u001b[0m \u001b[0mfunc\u001b[0m\u001b[0;34m(\u001b[0m\u001b[0m_\u001b[0m\u001b[0;34m)\u001b[0m\u001b[0;34m\u001b[0m\u001b[0;34m\u001b[0m\u001b[0m\n\u001b[0m\u001b[1;32m     61\u001b[0m             \u001b[0;32mexcept\u001b[0m \u001b[0mSkip\u001b[0m \u001b[0;32mas\u001b[0m \u001b[0me\u001b[0m\u001b[0;34m:\u001b[0m\u001b[0;34m\u001b[0m\u001b[0;34m\u001b[0m\u001b[0m\n\u001b[1;32m     62\u001b[0m                 \u001b[0mlogger\u001b[0m\u001b[0;34m.\u001b[0m\u001b[0mdebug\u001b[0m\u001b[0;34m(\u001b[0m\u001b[0;34m\" %s\"\u001b[0m\u001b[0;34m%\u001b[0m\u001b[0mstr\u001b[0m\u001b[0;34m(\u001b[0m\u001b[0me\u001b[0m\u001b[0;34m)\u001b[0m\u001b[0;34m)\u001b[0m\u001b[0;34m\u001b[0m\u001b[0;34m\u001b[0m\u001b[0m\n",
      "\u001b[0;32m~/anaconda3/lib/python3.7/contextlib.py\u001b[0m in \u001b[0;36m__exit__\u001b[0;34m(self, type, value, traceback)\u001b[0m\n\u001b[1;32m    117\u001b[0m         \u001b[0;32mif\u001b[0m \u001b[0mtype\u001b[0m \u001b[0;32mis\u001b[0m \u001b[0;32mNone\u001b[0m\u001b[0;34m:\u001b[0m\u001b[0;34m\u001b[0m\u001b[0;34m\u001b[0m\u001b[0m\n\u001b[1;32m    118\u001b[0m             \u001b[0;32mtry\u001b[0m\u001b[0;34m:\u001b[0m\u001b[0;34m\u001b[0m\u001b[0;34m\u001b[0m\u001b[0m\n\u001b[0;32m--> 119\u001b[0;31m                 \u001b[0mnext\u001b[0m\u001b[0;34m(\u001b[0m\u001b[0mself\u001b[0m\u001b[0;34m.\u001b[0m\u001b[0mgen\u001b[0m\u001b[0;34m)\u001b[0m\u001b[0;34m\u001b[0m\u001b[0;34m\u001b[0m\u001b[0m\n\u001b[0m\u001b[1;32m    120\u001b[0m             \u001b[0;32mexcept\u001b[0m \u001b[0mStopIteration\u001b[0m\u001b[0;34m:\u001b[0m\u001b[0;34m\u001b[0m\u001b[0;34m\u001b[0m\u001b[0m\n\u001b[1;32m    121\u001b[0m                 \u001b[0;32mreturn\u001b[0m \u001b[0;32mFalse\u001b[0m\u001b[0;34m\u001b[0m\u001b[0;34m\u001b[0m\u001b[0m\n",
      "\u001b[0;32m~/jupyter/utflow/utflow/task.py\u001b[0m in \u001b[0;36mstart\u001b[0;34m(self)\u001b[0m\n\u001b[1;32m    111\u001b[0m         \u001b[0;32myield\u001b[0m \u001b[0mself\u001b[0m\u001b[0;34m.\u001b[0m\u001b[0mflow\u001b[0m\u001b[0;34m.\u001b[0m\u001b[0mcontext\u001b[0m\u001b[0;34m\u001b[0m\u001b[0;34m\u001b[0m\u001b[0m\n\u001b[1;32m    112\u001b[0m \u001b[0;34m\u001b[0m\u001b[0m\n\u001b[0;32m--> 113\u001b[0;31m         \u001b[0mself\u001b[0m\u001b[0;34m.\u001b[0m\u001b[0msave_state\u001b[0m\u001b[0;34m(\u001b[0m\u001b[0;34m)\u001b[0m\u001b[0;34m\u001b[0m\u001b[0;34m\u001b[0m\u001b[0m\n\u001b[0m\u001b[1;32m    114\u001b[0m         \u001b[0mself\u001b[0m\u001b[0;34m.\u001b[0m\u001b[0mflow\u001b[0m\u001b[0;34m.\u001b[0m\u001b[0mlast_task\u001b[0m \u001b[0;34m=\u001b[0m \u001b[0mself\u001b[0m\u001b[0;34m.\u001b[0m\u001b[0mlabel\u001b[0m\u001b[0;34m\u001b[0m\u001b[0;34m\u001b[0m\u001b[0m\n",
      "\u001b[0;32m~/jupyter/utflow/utflow/task.py\u001b[0m in \u001b[0;36msave_state\u001b[0;34m(self)\u001b[0m\n\u001b[1;32m     68\u001b[0m         \u001b[0mos\u001b[0m\u001b[0;34m.\u001b[0m\u001b[0mmakedirs\u001b[0m\u001b[0;34m(\u001b[0m\u001b[0mos\u001b[0m\u001b[0;34m.\u001b[0m\u001b[0mpath\u001b[0m\u001b[0;34m.\u001b[0m\u001b[0mdirname\u001b[0m\u001b[0;34m(\u001b[0m\u001b[0mfilepath\u001b[0m\u001b[0;34m)\u001b[0m\u001b[0;34m,\u001b[0m \u001b[0mexist_ok\u001b[0m\u001b[0;34m=\u001b[0m\u001b[0;32mTrue\u001b[0m\u001b[0;34m)\u001b[0m\u001b[0;34m\u001b[0m\u001b[0;34m\u001b[0m\u001b[0m\n\u001b[1;32m     69\u001b[0m         \u001b[0;32mwith\u001b[0m \u001b[0mopen\u001b[0m\u001b[0;34m(\u001b[0m\u001b[0mfilepath\u001b[0m\u001b[0;34m,\u001b[0m \u001b[0;34m\"wb\"\u001b[0m\u001b[0;34m)\u001b[0m \u001b[0;32mas\u001b[0m \u001b[0mf\u001b[0m\u001b[0;34m:\u001b[0m\u001b[0;34m\u001b[0m\u001b[0;34m\u001b[0m\u001b[0m\n\u001b[0;32m---> 70\u001b[0;31m             \u001b[0mself\u001b[0m\u001b[0;34m.\u001b[0m\u001b[0mflow\u001b[0m\u001b[0;34m.\u001b[0m\u001b[0mcontext\u001b[0m\u001b[0;34m.\u001b[0m\u001b[0m__dump__\u001b[0m\u001b[0;34m(\u001b[0m\u001b[0mf\u001b[0m\u001b[0;34m)\u001b[0m\u001b[0;34m\u001b[0m\u001b[0;34m\u001b[0m\u001b[0m\n\u001b[0m\u001b[1;32m     71\u001b[0m \u001b[0;34m\u001b[0m\u001b[0m\n\u001b[1;32m     72\u001b[0m \u001b[0;34m\u001b[0m\u001b[0m\n",
      "\u001b[0;32m~/jupyter/utflow/utflow/context.py\u001b[0m in \u001b[0;36m__dump__\u001b[0;34m(self, f)\u001b[0m\n\u001b[1;32m    121\u001b[0m             \u001b[0mself\u001b[0m\u001b[0;34m.\u001b[0m\u001b[0m__reset__\u001b[0m\u001b[0;34m(\u001b[0m\u001b[0;34m)\u001b[0m\u001b[0;34m\u001b[0m\u001b[0;34m\u001b[0m\u001b[0m\n\u001b[1;32m    122\u001b[0m \u001b[0;34m\u001b[0m\u001b[0m\n\u001b[0;32m--> 123\u001b[0;31m         \u001b[0mpickle\u001b[0m\u001b[0;34m.\u001b[0m\u001b[0mdump\u001b[0m\u001b[0;34m(\u001b[0m\u001b[0mself\u001b[0m\u001b[0;34m,\u001b[0m \u001b[0mf\u001b[0m\u001b[0;34m)\u001b[0m\u001b[0;34m\u001b[0m\u001b[0;34m\u001b[0m\u001b[0m\n\u001b[0m\u001b[1;32m    124\u001b[0m \u001b[0;34m\u001b[0m\u001b[0m\n\u001b[1;32m    125\u001b[0m         \u001b[0mself\u001b[0m\u001b[0;34m.\u001b[0m\u001b[0m__reset__\u001b[0m\u001b[0;34m(\u001b[0m\u001b[0mparent\u001b[0m\u001b[0;34m)\u001b[0m\u001b[0;34m\u001b[0m\u001b[0;34m\u001b[0m\u001b[0m\n",
      "\u001b[0;31mTypeError\u001b[0m: cannot serialize '_io.TextIOWrapper' object"
     ]
    }
   ],
   "source": [
    "flow = utflow.TaskFlow()\n",
    "session = Session()\n",
    "session.login2()\n",
    "\n",
    "@flow.start_next()\n",
    "def test1(_):\n",
    "    _.session = session\n",
    "\n",
    "@flow.start_next()\n",
    "def test2(_):\n",
    "    _.session.connection.write(\"test\")\n",
    "\n",
    "@flow.start_next()\n",
    "def test3(_):\n",
    "    _.session.logout()\n",
    "    _.session.connection.write(\"test\")"
   ]
  },
  {
   "cell_type": "code",
   "execution_count": null,
   "metadata": {},
   "outputs": [],
   "source": []
  }
 ],
 "metadata": {
  "kernelspec": {
   "display_name": "Python 3",
   "language": "python",
   "name": "python3"
  },
  "language_info": {
   "codemirror_mode": {
    "name": "ipython",
    "version": 3
   },
   "file_extension": ".py",
   "mimetype": "text/x-python",
   "name": "python",
   "nbconvert_exporter": "python",
   "pygments_lexer": "ipython3",
   "version": "3.7.4"
  }
 },
 "nbformat": 4,
 "nbformat_minor": 4
}
