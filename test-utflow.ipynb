{
 "cells": [
  {
   "cell_type": "code",
   "execution_count": 1,
   "metadata": {},
   "outputs": [],
   "source": [
    "import sys,os\n",
    "sys.path.append(os.getcwd())\n",
    "import utflow\n",
    "\n",
    "import logging\n",
    "logging.basicConfig(level=logging.DEBUG)"
   ]
  },
  {
   "cell_type": "code",
   "execution_count": 2,
   "metadata": {},
   "outputs": [],
   "source": [
    "flow = utflow.TaskFlow()"
   ]
  },
  {
   "cell_type": "code",
   "execution_count": 3,
   "metadata": {},
   "outputs": [
    {
     "name": "stderr",
     "output_type": "stream",
     "text": [
      "DEBUG:utflow.taskflow:Dump state of task '1st'\n",
      "DEBUG:utflow.taskflow:Dump state of task '2nd'\n",
      "DEBUG:utflow.taskflow:Dump state of task 'last'\n"
     ]
    },
    {
     "name": "stdout",
     "output_type": "stream",
     "text": [
      "1st:  5 3\n",
      "2nd: 5,3\n",
      "3rd: x=10\n",
      "3rd: z=20\n"
     ]
    }
   ],
   "source": [
    "with flow.next(\"1st\") as task:\n",
    "    with task.start() as _:\n",
    "        _.x = 5\n",
    "        _.y = 3\n",
    "        print(\"1st: \", _.x, _.y)\n",
    "\n",
    "with flow.next(\"2nd\") as task:\n",
    "    with task.start() as _:\n",
    "        print(\"2nd: %s,%s\"%(_.x, _.y))\n",
    "        _.x = 10\n",
    "        _.z = 20\n",
    "\n",
    "with flow.next(\"last\") as task:\n",
    "    with task.start() as _:\n",
    "        print(\"3rd: x=%s\"%_.x)\n",
    "        print(\"3rd: z=%s\"%_.z)"
   ]
  },
  {
   "cell_type": "code",
   "execution_count": 4,
   "metadata": {},
   "outputs": [],
   "source": [
    "flow.reset(start=\"2nd\")"
   ]
  },
  {
   "cell_type": "code",
   "execution_count": 5,
   "metadata": {},
   "outputs": [
    {
     "name": "stderr",
     "output_type": "stream",
     "text": [
      "DEBUG:utflow.taskflow: Skipped task '1st'\n",
      "DEBUG:utflow.taskflow:Load state of previous task '1st'\n",
      "DEBUG:utflow.taskflow:Dump state of task '2nd'\n",
      "DEBUG:utflow.taskflow:Dump state of task 'last'\n"
     ]
    },
    {
     "name": "stdout",
     "output_type": "stream",
     "text": [
      "2nd: 5,3\n",
      "3rd: x=10\n",
      "3rd: z=20\n"
     ]
    }
   ],
   "source": [
    "with flow.next(\"1st\") as task:\n",
    "    with task.start() as _:\n",
    "        _.x = 5\n",
    "        _.y = 3\n",
    "        print(\"1st: \", _.x, _.y)\n",
    "\n",
    "with flow.next(\"2nd\") as task:\n",
    "    with task.start() as _:\n",
    "        print(\"2nd: %s,%s\"%(_.x, _.y))\n",
    "        _.x = 10\n",
    "        _.z = 20\n",
    "\n",
    "with flow.next(\"last\") as task:\n",
    "    with task.start() as _:\n",
    "        print(\"3rd: x=%s\"%_.x)\n",
    "        print(\"3rd: z=%s\"%_.z)"
   ]
  },
  {
   "cell_type": "code",
   "execution_count": 6,
   "metadata": {},
   "outputs": [],
   "source": [
    "flow.reset(start=\"last\")"
   ]
  },
  {
   "cell_type": "code",
   "execution_count": 7,
   "metadata": {},
   "outputs": [
    {
     "name": "stderr",
     "output_type": "stream",
     "text": [
      "DEBUG:utflow.taskflow: Skipped task '1st'\n",
      "DEBUG:utflow.taskflow: Skipped task '2nd'\n",
      "DEBUG:utflow.taskflow:Load state of previous task '2nd'\n",
      "DEBUG:utflow.taskflow:Dump state of task 'last'\n"
     ]
    },
    {
     "name": "stdout",
     "output_type": "stream",
     "text": [
      "3rd: x=10\n",
      "3rd: z=20\n"
     ]
    }
   ],
   "source": [
    "with flow.next(\"1st\") as task:\n",
    "    with task.start() as _:\n",
    "        _.x = 5\n",
    "        _.y = 3\n",
    "        print(\"1st: \", _.x, _.y)\n",
    "\n",
    "with flow.next(\"2nd\") as task:\n",
    "    with task.start() as _:\n",
    "        print(\"2nd: %s,%s\"%(_.x, _.y))\n",
    "        _.x = 10\n",
    "        _.z = 20\n",
    "\n",
    "with flow.next(\"last\") as task:\n",
    "    with task.start() as _:\n",
    "        print(\"3rd: x=%s\"%_.x)\n",
    "        print(\"3rd: z=%s\"%_.z)"
   ]
  },
  {
   "cell_type": "code",
   "execution_count": 8,
   "metadata": {},
   "outputs": [],
   "source": [
    "flow.reset(end=\"2nd\")"
   ]
  },
  {
   "cell_type": "code",
   "execution_count": 9,
   "metadata": {},
   "outputs": [
    {
     "name": "stderr",
     "output_type": "stream",
     "text": [
      "DEBUG:utflow.taskflow:Load state of previous task 'last'\n",
      "DEBUG:utflow.taskflow:Dump state of task '1st'\n",
      "DEBUG:utflow.taskflow: Skipped task '2nd'\n",
      "DEBUG:utflow.taskflow: Skipped task 'last'\n"
     ]
    },
    {
     "name": "stdout",
     "output_type": "stream",
     "text": [
      "1st:  5 3\n"
     ]
    }
   ],
   "source": [
    "with flow.next(\"1st\") as task:\n",
    "    with task.start() as _:\n",
    "        _.x = 5\n",
    "        _.y = 3\n",
    "        print(\"1st: \", _.x, _.y)\n",
    "\n",
    "with flow.next(\"2nd\") as task:\n",
    "    with task.start() as _:\n",
    "        print(\"2nd: %s,%s\"%(_.x, _.y))\n",
    "        _.x = 10\n",
    "        _.z = 20\n",
    "\n",
    "with flow.next(\"last\") as task:\n",
    "    with task.start() as _:\n",
    "        print(\"3rd: x=%s\"%_.x)\n",
    "        print(\"3rd: z=%s\"%_.z)"
   ]
  },
  {
   "cell_type": "code",
   "execution_count": 10,
   "metadata": {},
   "outputs": [],
   "source": [
    "flow.reset()"
   ]
  },
  {
   "cell_type": "code",
   "execution_count": 11,
   "metadata": {},
   "outputs": [
    {
     "name": "stderr",
     "output_type": "stream",
     "text": [
      "DEBUG:utflow.taskflow:Load state of previous task 'last'\n",
      "DEBUG:utflow.taskflow:Dump state of task '1st'\n",
      "DEBUG:utflow.taskflow:Duplicate state of task '1st' as '2nd'\n",
      "DEBUG:utflow.taskflow: Conditionally skipped task '2nd'\n",
      "DEBUG:utflow.taskflow:Dump state of task '2nd'\n",
      "DEBUG:utflow.taskflow:Dump state of task 'last'\n"
     ]
    },
    {
     "name": "stdout",
     "output_type": "stream",
     "text": [
      "1st:  5 3\n",
      "2nd -- x>=5\n",
      "2nd: 5,3\n",
      "3rd: x=9\n",
      "3rd: z=4\n"
     ]
    }
   ],
   "source": [
    "with flow.next(\"1st\") as task:\n",
    "    with task.start() as _:\n",
    "        _.x = 5\n",
    "        _.y = 3\n",
    "        print(\"1st: \", _.x, _.y)\n",
    "\n",
    "with flow.next(\"2nd\", when=lambda _: _.x < 5) as task:\n",
    "    with task.start() as _:\n",
    "        print(\"2nd -- x<5\")\n",
    "        print(\"2nd: %s,%s\"%(_.x, _.y))\n",
    "        _.x = 1\n",
    "        _.z = 2\n",
    "\n",
    "with flow.next(\"2nd\", when=lambda _: _.x >=5) as task:\n",
    "    with task.start() as _:\n",
    "        print(\"2nd -- x>=5\")\n",
    "        print(\"2nd: %s,%s\"%(_.x, _.y))\n",
    "        _.x = 9\n",
    "        _.z = 4\n",
    "\n",
    "with flow.next(\"last\") as task:\n",
    "    with task.start() as _:\n",
    "        print(\"3rd: x=%s\"%_.x)\n",
    "        print(\"3rd: z=%s\"%_.z)"
   ]
  },
  {
   "cell_type": "code",
   "execution_count": null,
   "metadata": {},
   "outputs": [],
   "source": []
  }
 ],
 "metadata": {
  "kernelspec": {
   "display_name": "Python 3",
   "language": "python",
   "name": "python3"
  },
  "language_info": {
   "codemirror_mode": {
    "name": "ipython",
    "version": 3
   },
   "file_extension": ".py",
   "mimetype": "text/x-python",
   "name": "python",
   "nbconvert_exporter": "python",
   "pygments_lexer": "ipython3",
   "version": "3.7.4"
  }
 },
 "nbformat": 4,
 "nbformat_minor": 4
}
