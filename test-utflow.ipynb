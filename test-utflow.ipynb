{
 "cells": [
  {
   "cell_type": "code",
   "execution_count": 73,
   "metadata": {},
   "outputs": [],
   "source": [
    "import sys,os\n",
    "sys.path.append(os.getcwd())\n",
    "import utflow\n",
    "import functools\n",
    "\n",
    "import logging\n",
    "logging.basicConfig(level=logging.DEBUG)"
   ]
  },
  {
   "cell_type": "markdown",
   "metadata": {},
   "source": [
    "## Basic structure of task definition and execution."
   ]
  },
  {
   "cell_type": "code",
   "execution_count": 74,
   "metadata": {},
   "outputs": [],
   "source": [
    "flow = utflow.TaskFlow()"
   ]
  },
  {
   "cell_type": "code",
   "execution_count": 75,
   "metadata": {},
   "outputs": [
    {
     "name": "stderr",
     "output_type": "stream",
     "text": [
      "DEBUG:utflow.taskflow:Dump state of task '1st'\n",
      "DEBUG:utflow.taskflow:Dump state of task '2nd'\n",
      "DEBUG:utflow.taskflow:Dump state of task 'last'\n"
     ]
    },
    {
     "name": "stdout",
     "output_type": "stream",
     "text": [
      "1st:  5 3\n",
      "2nd: 5,3\n",
      "3rd: x=10\n",
      "3rd: z=20\n"
     ]
    }
   ],
   "source": [
    "with flow.next(\"1st\") as task:\n",
    "    with task.start() as _:\n",
    "        _.x = 5\n",
    "        _.y = 3\n",
    "        print(\"1st: \", _.x, _.y)\n",
    "        # context '_' is saved as pickle file in '.taskflow' directory after task execution.\n",
    "\n",
    "with flow.next(\"2nd\") as task:\n",
    "    with task.start() as _:\n",
    "        print(\"2nd: %s,%s\"%(_.x, _.y))\n",
    "        _.x = 10\n",
    "        _.z = 20\n",
    "\n",
    "with flow.next(\"last\") as task:\n",
    "    with task.start() as _:\n",
    "        print(\"3rd: x=%s\"%_.x)\n",
    "        print(\"3rd: z=%s\"%_.z)"
   ]
  },
  {
   "cell_type": "markdown",
   "metadata": {},
   "source": [
    "## Continue from '2nd' task"
   ]
  },
  {
   "cell_type": "code",
   "execution_count": 76,
   "metadata": {},
   "outputs": [],
   "source": [
    "flow.reset(start=\"2nd\")"
   ]
  },
  {
   "cell_type": "code",
   "execution_count": 77,
   "metadata": {},
   "outputs": [
    {
     "name": "stderr",
     "output_type": "stream",
     "text": [
      "DEBUG:utflow.taskflow: Skipped task '1st'\n",
      "DEBUG:utflow.taskflow:Load state of previous task '1st'\n",
      "DEBUG:utflow.taskflow:Dump state of task '2nd'\n",
      "DEBUG:utflow.taskflow:Dump state of task 'last'\n"
     ]
    },
    {
     "name": "stdout",
     "output_type": "stream",
     "text": [
      "2nd: 10,3\n",
      "3rd: x=10\n",
      "3rd: z=20\n"
     ]
    }
   ],
   "source": [
    "with flow.next(\"1st\") as task:\n",
    "    with task.start() as _:\n",
    "        _.x = 5\n",
    "        _.y = 3\n",
    "        print(\"1st: \", _.x, _.y)\n",
    "\n",
    "with flow.next(\"2nd\") as task:\n",
    "    with task.start() as _:\n",
    "        print(\"2nd: %s,%s\"%(_.x, _.y))\n",
    "        _.x = 10\n",
    "        _.z = 20\n",
    "\n",
    "with flow.next(\"last\") as task:\n",
    "    with task.start() as _:\n",
    "        print(\"3rd: x=%s\"%_.x)\n",
    "        print(\"3rd: z=%s\"%_.z)"
   ]
  },
  {
   "cell_type": "markdown",
   "metadata": {},
   "source": [
    "## Continue from 'last' task "
   ]
  },
  {
   "cell_type": "code",
   "execution_count": 78,
   "metadata": {},
   "outputs": [],
   "source": [
    "flow.reset(start=\"last\")"
   ]
  },
  {
   "cell_type": "code",
   "execution_count": 79,
   "metadata": {},
   "outputs": [
    {
     "name": "stderr",
     "output_type": "stream",
     "text": [
      "DEBUG:utflow.taskflow: Skipped task '1st'\n",
      "DEBUG:utflow.taskflow: Skipped task '2nd'\n",
      "DEBUG:utflow.taskflow:Load state of previous task '2nd'\n",
      "DEBUG:utflow.taskflow:Dump state of task 'last'\n"
     ]
    },
    {
     "name": "stdout",
     "output_type": "stream",
     "text": [
      "3rd: x=10\n",
      "3rd: z=20\n"
     ]
    }
   ],
   "source": [
    "with flow.next(\"1st\") as task:\n",
    "    with task.start() as _:\n",
    "        _.x = 5\n",
    "        _.y = 3\n",
    "        print(\"1st: \", _.x, _.y)\n",
    "\n",
    "with flow.next(\"2nd\") as task:\n",
    "    with task.start() as _:\n",
    "        print(\"2nd: %s,%s\"%(_.x, _.y))\n",
    "        _.x = 10\n",
    "        _.z = 20\n",
    "\n",
    "with flow.next(\"last\") as task:\n",
    "    with task.start() as _:\n",
    "        print(\"3rd: x=%s\"%_.x)\n",
    "        print(\"3rd: z=%s\"%_.z)"
   ]
  },
  {
   "cell_type": "markdown",
   "metadata": {},
   "source": [
    "## Specifying 'end' task"
   ]
  },
  {
   "cell_type": "code",
   "execution_count": 80,
   "metadata": {},
   "outputs": [],
   "source": [
    "flow.reset(end=\"2nd\")"
   ]
  },
  {
   "cell_type": "code",
   "execution_count": 81,
   "metadata": {},
   "outputs": [
    {
     "name": "stderr",
     "output_type": "stream",
     "text": [
      "DEBUG:utflow.taskflow:Load state of previous task 'last'\n",
      "DEBUG:utflow.taskflow:Dump state of task '1st'\n",
      "DEBUG:utflow.taskflow: Skipped task '2nd'\n",
      "DEBUG:utflow.taskflow: Skipped task 'last'\n"
     ]
    },
    {
     "name": "stdout",
     "output_type": "stream",
     "text": [
      "1st:  5 3\n"
     ]
    }
   ],
   "source": [
    "with flow.next(\"1st\") as task:\n",
    "    with task.start() as _:\n",
    "        _.x = 5\n",
    "        _.y = 3\n",
    "        print(\"1st: \", _.x, _.y)\n",
    "\n",
    "with flow.next(\"2nd\") as task:\n",
    "    with task.start() as _:\n",
    "        print(\"2nd: %s,%s\"%(_.x, _.y))\n",
    "        _.x = 10\n",
    "        _.z = 20\n",
    "\n",
    "with flow.next(\"last\") as task:\n",
    "    with task.start() as _:\n",
    "        print(\"3rd: x=%s\"%_.x)\n",
    "        print(\"3rd: z=%s\"%_.z)"
   ]
  },
  {
   "cell_type": "markdown",
   "metadata": {},
   "source": [
    "## Conditional execution of Task"
   ]
  },
  {
   "cell_type": "code",
   "execution_count": 82,
   "metadata": {},
   "outputs": [],
   "source": [
    "flow.reset()"
   ]
  },
  {
   "cell_type": "code",
   "execution_count": 83,
   "metadata": {},
   "outputs": [
    {
     "name": "stderr",
     "output_type": "stream",
     "text": [
      "DEBUG:utflow.taskflow:Load state of previous task 'last'\n",
      "DEBUG:utflow.taskflow:Dump state of task '1st'\n",
      "DEBUG:utflow.taskflow:Duplicate state of task '1st' as '2nd'\n",
      "DEBUG:utflow.taskflow: Conditionally skipped task '2nd'\n",
      "DEBUG:utflow.taskflow:Dump state of task '2nd'\n",
      "DEBUG:utflow.taskflow:Dump state of task 'last'\n"
     ]
    },
    {
     "name": "stdout",
     "output_type": "stream",
     "text": [
      "1st:  5 3\n",
      "2nd -- x>=5\n",
      "2nd: 5,3\n",
      "3rd: x=9\n",
      "3rd: z=4\n"
     ]
    }
   ],
   "source": [
    "with flow.next(\"1st\") as task:\n",
    "    with task.start() as _:\n",
    "        _.x = 5\n",
    "        _.y = 3\n",
    "        print(\"1st: \", _.x, _.y)\n",
    "\n",
    "# Task is executed if 'x' in context is less than 5.\n",
    "with flow.next(\"2nd\", when=lambda _: _.x < 5) as task:\n",
    "    with task.start() as _:\n",
    "        print(\"2nd -- x<5\")\n",
    "        print(\"2nd: %s,%s\"%(_.x, _.y))\n",
    "        _.x = 1\n",
    "        _.z = 2\n",
    "\n",
    "# Task is executed if 'x' in context is greater than or equal to 5\n",
    "with flow.next(\"2nd\", when=lambda _: _.x >=5) as task:\n",
    "    with task.start() as _:\n",
    "        print(\"2nd -- x>=5\")\n",
    "        print(\"2nd: %s,%s\"%(_.x, _.y))\n",
    "        _.x = 9\n",
    "        _.z = 4\n",
    "\n",
    "with flow.next(\"last\") as task:\n",
    "    with task.start() as _:\n",
    "        print(\"3rd: x=%s\"%_.x)\n",
    "        print(\"3rd: z=%s\"%_.z)"
   ]
  },
  {
   "cell_type": "markdown",
   "metadata": {},
   "source": [
    "## Substitution of context using '<<' operator"
   ]
  },
  {
   "cell_type": "code",
   "execution_count": 84,
   "metadata": {},
   "outputs": [
    {
     "name": "stderr",
     "output_type": "stream",
     "text": [
      "DEBUG:utflow.taskflow:Load state of previous task 'last'\n",
      "DEBUG:utflow.taskflow:Dump state of task '0'\n"
     ]
    },
    {
     "name": "stdout",
     "output_type": "stream",
     "text": [
      "1\n",
      "XXX\n"
     ]
    }
   ],
   "source": [
    "kwargs = {\"test1\": 1, \"test2\": 2}\n",
    "flow.reset()\n",
    "\n",
    "state = utflow.TaskFlow.Task.Context()\n",
    "state.xxx = \"XXX\"\n",
    "\n",
    "with flow.next() as task:\n",
    "    with task.start() as _:\n",
    "        _ << kwargs << state\n",
    "        print(_.test1)\n",
    "        print(_.xxx)"
   ]
  },
  {
   "cell_type": "markdown",
   "metadata": {},
   "source": [
    "## Pipe like interface for Context and functions using '>>' operator"
   ]
  },
  {
   "cell_type": "code",
   "execution_count": 85,
   "metadata": {},
   "outputs": [
    {
     "name": "stderr",
     "output_type": "stream",
     "text": [
      "DEBUG:utflow.taskflow:Dump state of task '1'\n"
     ]
    },
    {
     "name": "stdout",
     "output_type": "stream",
     "text": [
      "Hello, world\n",
      "\n",
      "Hello, world\n",
      "\n",
      "Hello, world\n"
     ]
    }
   ],
   "source": [
    "def hello(greeting, name):\n",
    "    text = \"%s, %s\"%(greeting, name)\n",
    "    return {\"text\": text }\n",
    "\n",
    "def to_list(text):\n",
    "    return [text]\n",
    "\n",
    "def print_text(string):\n",
    "    print(string)\n",
    "    return None\n",
    "\n",
    "with flow.next() as task:\n",
    "    with task.start() as _:\n",
    "        \n",
    "        _.greeting = \"Hello\"\n",
    "        _.name     = \"world\"\n",
    "        \n",
    "        # Passing context to function as arguments, and get result wrapped by context.\n",
    "        c = _ >> hello\n",
    "        print(c.text)\n",
    "        print()\n",
    "        \n",
    "        # If result of function call is dict, '>>' put all the keys to target context\n",
    "        _ >> hello >> _\n",
    "        print(_.text)\n",
    "        print()\n",
    "        \n",
    "        # If result of function call is dict, '>>' select appropriate keys from dict, and put them as '**kwargs' in next function call.\n",
    "        # If result of function call is list, '>>' pass all the result as '*args' in next function call.\n",
    "        _ >> hello >> to_list >> print_text"
   ]
  },
  {
   "cell_type": "code",
   "execution_count": null,
   "metadata": {},
   "outputs": [],
   "source": []
  }
 ],
 "metadata": {
  "kernelspec": {
   "display_name": "Python 3",
   "language": "python",
   "name": "python3"
  },
  "language_info": {
   "codemirror_mode": {
    "name": "ipython",
    "version": 3
   },
   "file_extension": ".py",
   "mimetype": "text/x-python",
   "name": "python",
   "nbconvert_exporter": "python",
   "pygments_lexer": "ipython3",
   "version": "3.7.4"
  }
 },
 "nbformat": 4,
 "nbformat_minor": 4
}
