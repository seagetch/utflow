{
 "cells": [
  {
   "cell_type": "code",
   "execution_count": 1,
   "metadata": {},
   "outputs": [],
   "source": [
    "import sys,os\n",
    "sys.path.append(os.getcwd())\n",
    "import utflow\n",
    "import functools\n",
    "\n",
    "import logging\n",
    "logging.basicConfig(level=logging.DEBUG)"
   ]
  },
  {
   "cell_type": "markdown",
   "metadata": {},
   "source": [
    "## Basic structure of task definition and execution."
   ]
  },
  {
   "cell_type": "code",
   "execution_count": 3,
   "metadata": {},
   "outputs": [],
   "source": [
    "flow = utflow.TaskFlow()"
   ]
  },
  {
   "cell_type": "code",
   "execution_count": 3,
   "metadata": {},
   "outputs": [
    {
     "name": "stderr",
     "output_type": "stream",
     "text": [
      "DEBUG:utflow.task:Dump state of task '1st'\n",
      "DEBUG:utflow.task:Dump state of task '2nd'\n",
      "DEBUG:utflow.task:Dump state of task 'last'\n"
     ]
    },
    {
     "name": "stdout",
     "output_type": "stream",
     "text": [
      "1st:  5 3\n",
      "2nd: 5,3\n",
      "3rd: x=10\n",
      "3rd: z=20\n"
     ]
    }
   ],
   "source": [
    "with flow.next(\"1st\") as task:\n",
    "    with task.start() as _:\n",
    "        _.x = 5\n",
    "        _.y = 3\n",
    "        print(\"1st: \", _.x, _.y)\n",
    "        # context '_' is saved as pickle file in '.taskflow' directory after task execution.\n",
    "\n",
    "with flow.next(\"2nd\") as task:\n",
    "    with task.start() as _:\n",
    "        print(\"2nd: %s,%s\"%(_.x, _.y))\n",
    "        _.x = 10\n",
    "        _.z = 20\n",
    "\n",
    "with flow.next(\"last\") as task:\n",
    "    with task.start() as _:\n",
    "        print(\"3rd: x=%s\"%_.x)\n",
    "        print(\"3rd: z=%s\"%_.z)"
   ]
  },
  {
   "cell_type": "markdown",
   "metadata": {},
   "source": [
    "## Continue from '2nd' task"
   ]
  },
  {
   "cell_type": "code",
   "execution_count": 4,
   "metadata": {},
   "outputs": [],
   "source": [
    "flow.reset(start=\"2nd\")"
   ]
  },
  {
   "cell_type": "code",
   "execution_count": 5,
   "metadata": {},
   "outputs": [
    {
     "name": "stderr",
     "output_type": "stream",
     "text": [
      "DEBUG:utflow.taskflow: Skipped task '1st'\n",
      "DEBUG:utflow.task:Load state of previous task '1st'\n",
      "DEBUG:utflow.task:Dump state of task '2nd'\n",
      "DEBUG:utflow.task:Dump state of task 'last'\n"
     ]
    },
    {
     "name": "stdout",
     "output_type": "stream",
     "text": [
      "2nd: 10,3\n",
      "3rd: x=10\n",
      "3rd: z=20\n"
     ]
    }
   ],
   "source": [
    "with flow.next(\"1st\") as task:\n",
    "    with task.start() as _:\n",
    "        _.x = 5\n",
    "        _.y = 3\n",
    "        print(\"1st: \", _.x, _.y)\n",
    "\n",
    "with flow.next(\"2nd\") as task:\n",
    "    with task.start() as _:\n",
    "        print(\"2nd: %s,%s\"%(_.x, _.y))\n",
    "        _.x = 10\n",
    "        _.z = 20\n",
    "\n",
    "with flow.next(\"last\") as task:\n",
    "    with task.start() as _:\n",
    "        print(\"3rd: x=%s\"%_.x)\n",
    "        print(\"3rd: z=%s\"%_.z)"
   ]
  },
  {
   "cell_type": "markdown",
   "metadata": {},
   "source": [
    "## Continue from 'last' task "
   ]
  },
  {
   "cell_type": "code",
   "execution_count": 6,
   "metadata": {},
   "outputs": [],
   "source": [
    "flow.reset(start=\"last\")"
   ]
  },
  {
   "cell_type": "code",
   "execution_count": 7,
   "metadata": {},
   "outputs": [
    {
     "name": "stderr",
     "output_type": "stream",
     "text": [
      "DEBUG:utflow.taskflow: Skipped task '1st'\n",
      "DEBUG:utflow.taskflow: Skipped task '2nd'\n",
      "DEBUG:utflow.task:Load state of previous task '2nd'\n",
      "DEBUG:utflow.task:Dump state of task 'last'\n"
     ]
    },
    {
     "name": "stdout",
     "output_type": "stream",
     "text": [
      "3rd: x=10\n",
      "3rd: z=20\n"
     ]
    }
   ],
   "source": [
    "with flow.next(\"1st\") as task:\n",
    "    with task.start() as _:\n",
    "        _.x = 5\n",
    "        _.y = 3\n",
    "        print(\"1st: \", _.x, _.y)\n",
    "\n",
    "with flow.next(\"2nd\") as task:\n",
    "    with task.start() as _:\n",
    "        print(\"2nd: %s,%s\"%(_.x, _.y))\n",
    "        _.x = 10\n",
    "        _.z = 20\n",
    "\n",
    "with flow.next(\"last\") as task:\n",
    "    with task.start() as _:\n",
    "        print(\"3rd: x=%s\"%_.x)\n",
    "        print(\"3rd: z=%s\"%_.z)"
   ]
  },
  {
   "cell_type": "markdown",
   "metadata": {},
   "source": [
    "## Specifying 'end' task"
   ]
  },
  {
   "cell_type": "code",
   "execution_count": 8,
   "metadata": {},
   "outputs": [],
   "source": [
    "flow.reset(end=\"2nd\")"
   ]
  },
  {
   "cell_type": "code",
   "execution_count": 9,
   "metadata": {},
   "outputs": [
    {
     "name": "stderr",
     "output_type": "stream",
     "text": [
      "DEBUG:utflow.task:Dump state of task '1st'\n",
      "DEBUG:utflow.taskflow: Skipped task '2nd'\n",
      "DEBUG:utflow.taskflow: Skipped task 'last'\n"
     ]
    },
    {
     "name": "stdout",
     "output_type": "stream",
     "text": [
      "1st:  5 3\n"
     ]
    }
   ],
   "source": [
    "with flow.next(\"1st\") as task:\n",
    "    with task.start() as _:\n",
    "        _.x = 5\n",
    "        _.y = 3\n",
    "        print(\"1st: \", _.x, _.y)\n",
    "\n",
    "with flow.next(\"2nd\") as task:\n",
    "    with task.start() as _:\n",
    "        print(\"2nd: %s,%s\"%(_.x, _.y))\n",
    "        _.x = 10\n",
    "        _.z = 20\n",
    "\n",
    "with flow.next(\"last\") as task:\n",
    "    with task.start() as _:\n",
    "        print(\"3rd: x=%s\"%_.x)\n",
    "        print(\"3rd: z=%s\"%_.z)"
   ]
  },
  {
   "cell_type": "markdown",
   "metadata": {},
   "source": [
    "## Conditional execution of Task"
   ]
  },
  {
   "cell_type": "code",
   "execution_count": 10,
   "metadata": {},
   "outputs": [],
   "source": [
    "flow.reset()"
   ]
  },
  {
   "cell_type": "code",
   "execution_count": 11,
   "metadata": {},
   "outputs": [
    {
     "name": "stderr",
     "output_type": "stream",
     "text": [
      "DEBUG:utflow.task:Dump state of task '1st'\n",
      "DEBUG:utflow.task:Duplicate state of task '1st' as '2nd'\n",
      "DEBUG:utflow.taskflow: Conditionally skipped task '2nd'\n",
      "DEBUG:utflow.task:Dump state of task '2nd'\n",
      "DEBUG:utflow.task:Dump state of task 'last'\n"
     ]
    },
    {
     "name": "stdout",
     "output_type": "stream",
     "text": [
      "1st:  5 3\n",
      "2nd -- x>=5\n",
      "2nd: 5,3\n",
      "3rd: x=9\n",
      "3rd: z=4\n"
     ]
    }
   ],
   "source": [
    "with flow.next(\"1st\") as task:\n",
    "    with task.start() as _:\n",
    "        _.x = 5\n",
    "        _.y = 3\n",
    "        print(\"1st: \", _.x, _.y)\n",
    "\n",
    "# Task is executed if 'x' in context is less than 5.\n",
    "with flow.next(\"2nd\", when=lambda _: _.x < 5) as task:\n",
    "    with task.start() as _:\n",
    "        print(\"2nd -- x<5\")\n",
    "        print(\"2nd: %s,%s\"%(_.x, _.y))\n",
    "        _.x = 1\n",
    "        _.z = 2\n",
    "\n",
    "# Task is executed if 'x' in context is greater than or equal to 5\n",
    "with flow.next(\"2nd\", when=lambda _: _.x >=5) as task:\n",
    "    with task.start() as _:\n",
    "        print(\"2nd -- x>=5\")\n",
    "        print(\"2nd: %s,%s\"%(_.x, _.y))\n",
    "        _.x = 9\n",
    "        _.z = 4\n",
    "\n",
    "with flow.next(\"last\") as task:\n",
    "    with task.start() as _:\n",
    "        print(\"3rd: x=%s\"%_.x)\n",
    "        print(\"3rd: z=%s\"%_.z)"
   ]
  },
  {
   "cell_type": "markdown",
   "metadata": {},
   "source": [
    "## Substitution of context using '<<' operator"
   ]
  },
  {
   "cell_type": "code",
   "execution_count": 12,
   "metadata": {},
   "outputs": [
    {
     "name": "stderr",
     "output_type": "stream",
     "text": [
      "DEBUG:utflow.task:Dump state of task '0'\n"
     ]
    },
    {
     "name": "stdout",
     "output_type": "stream",
     "text": [
      "1\n",
      "XXX\n"
     ]
    }
   ],
   "source": [
    "kwargs = {\"test1\": 1, \"test2\": 2}\n",
    "flow.reset()\n",
    "\n",
    "state = utflow.Context()\n",
    "state.xxx = \"XXX\"\n",
    "\n",
    "with flow.next() as task:\n",
    "    with task.start() as _:\n",
    "        _ << kwargs << state\n",
    "        print(_.test1)\n",
    "        print(_.xxx)"
   ]
  },
  {
   "cell_type": "markdown",
   "metadata": {},
   "source": [
    "## Pipe like interface for Context and functions using '>>' operator"
   ]
  },
  {
   "cell_type": "code",
   "execution_count": 8,
   "metadata": {},
   "outputs": [
    {
     "name": "stderr",
     "output_type": "stream",
     "text": [
      "DEBUG:utflow.task:Dump state of task '0'\n"
     ]
    },
    {
     "name": "stdout",
     "output_type": "stream",
     "text": [
      "Hello, world\n",
      "Hello, world-Hello, world\n",
      "\n",
      "Hello, world\n",
      "Hello, world-Hello, world\n",
      "\n",
      "['Hello, world']\n",
      "\n",
      "Hello, world\n",
      "\n",
      "Hello, world\n",
      "Hello, world\n"
     ]
    }
   ],
   "source": [
    "flow = utflow.TaskFlow()\n",
    "\n",
    "def hello(greeting, name):\n",
    "    text = \"%s, %s\"%(greeting, name)\n",
    "    return {\"text\": text, \"text2\": \"%s-%s\"%(text, text) }\n",
    "\n",
    "def to_list(text):\n",
    "    return [text]\n",
    "\n",
    "def print_text(text):\n",
    "    print(text)\n",
    "    return text\n",
    "\n",
    "with flow.next() as task:\n",
    "    with task.start() as _:\n",
    "        \n",
    "        _.greeting = \"Hello\"\n",
    "        _.name     = \"world\"\n",
    "        \n",
    "        # Passing context to function as arguments, and get result wrapped by context.\n",
    "        c = _ >> hello\n",
    "        print(c.text)\n",
    "        print(c.text2)\n",
    "        print()\n",
    "        \n",
    "        # If result of function call is dict, '>>' put all the keys to target context\n",
    "        _ >> hello >> _\n",
    "        print(_.text)\n",
    "        print(_.text2)\n",
    "        print()\n",
    "        \n",
    "        # Function can be piped. \n",
    "        # If result of function call is dict, '>>' operator select appropriate keys from dict, and put them as '**kwargs' in next function call.\n",
    "        c = _ >> hello >> to_list\n",
    "        \n",
    "        # If result of function call is not dict, '>>' put result to '_' attribute.\n",
    "        print(c._)\n",
    "        print()\n",
    "        \n",
    "        # If result of function call is list, '>>' operator pass list as '*args' in next function call.\n",
    "        _ >> hello >> to_list >> print_text\n",
    "        print()\n",
    "        \n",
    "        # If result of cuntion call is not a list, nor dict, '>>' operator pass '_' variable as a first argument in next function call.        \n",
    "        _ >> hello >> to_list >> print_text >> print_text"
   ]
  },
  {
   "cell_type": "markdown",
   "metadata": {},
   "source": [
    "## Define task as function\n",
    "Instead of calling `with task.start()`, you can define function as a task block.\n",
    "\n",
    "Defined function is called immediately."
   ]
  },
  {
   "cell_type": "code",
   "execution_count": 17,
   "metadata": {},
   "outputs": [
    {
     "name": "stderr",
     "output_type": "stream",
     "text": [
      "DEBUG:utflow.task:Dump state of task 'test1'\n",
      "DEBUG:utflow.task:Dump state of task 'test2'\n"
     ]
    },
    {
     "name": "stdout",
     "output_type": "stream",
     "text": [
      "Assignment\n",
      "call_test\n",
      "100\n"
     ]
    }
   ],
   "source": [
    "flow = utflow.TaskFlow()\n",
    "\n",
    "@flow.start_next()\n",
    "def test1(_):\n",
    "    print(\"Assignment\")\n",
    "    _.a = \"call_test\"\n",
    "    _.b = 100\n",
    "\n",
    "@flow.start_next()\n",
    "def test2(_):\n",
    "    print(_.a)\n",
    "    print(_.b)"
   ]
  },
  {
   "cell_type": "code",
   "execution_count": 18,
   "metadata": {},
   "outputs": [
    {
     "name": "stderr",
     "output_type": "stream",
     "text": [
      "DEBUG:utflow.taskflow: Skipped task 'test1'\n",
      "DEBUG:utflow.task:Load state of previous task 'test1'\n",
      "DEBUG:utflow.task:Dump state of task 'test2'\n"
     ]
    },
    {
     "name": "stdout",
     "output_type": "stream",
     "text": [
      "call_test\n",
      "100\n"
     ]
    }
   ],
   "source": [
    "flow = utflow.TaskFlow(start=\"test2\")\n",
    "\n",
    "@flow.start_next()\n",
    "def test1(_):\n",
    "    print(\"Assignment\")\n",
    "    _.a = \"call_test\"\n",
    "    _.b = 100\n",
    "\n",
    "@flow.start_next()\n",
    "def test2(_):\n",
    "    print(_.a)\n",
    "    print(_.b)"
   ]
  },
  {
   "cell_type": "code",
   "execution_count": 15,
   "metadata": {},
   "outputs": [
    {
     "name": "stderr",
     "output_type": "stream",
     "text": [
      "DEBUG:utflow.task:Dump state of task 'test1'\n"
     ]
    },
    {
     "name": "stdout",
     "output_type": "stream",
     "text": [
      "case1\n",
      "test3: Hello, world: Hello, world-Hello, world\n",
      "\n",
      "case2: functools.partial\n",
      "       bound positional(text), and additionaly set by kwargs (text, text2)\n",
      "test3: , is the greeting: Hello, world-Hello, world\n",
      "\n",
      "case3: partial_lazy\n",
      "       bound positional(wildcard), and additionaly set by kwargs (text, text2)\n",
      "       positional argument is ignored.\n",
      "test3: Hello, world: Hello, world-Hello, world\n",
      "\n",
      "case4: functools.partial, bound positional (text1)\n",
      "test4: , is the greeting: Hello, world\n",
      "\n",
      "case5: functools.partial, bound keyword (text2)\n",
      "test4: Hello, world: , is the greeting\n",
      "\n",
      "case6: partial_lazy, bound positional (wildcard)\n",
      "       positional argument is interpreted as second positional variable\n",
      "test4: Hello, world: , is the greeting\n",
      "\n",
      "case7: partial_lazy, bound keyword (text2)\n",
      "test4: Hello, world: , is the greeting\n",
      "\n"
     ]
    }
   ],
   "source": [
    "import functools\n",
    "from utflow.functools import partial_lazy\n",
    "\n",
    "def hello(greeting, name):\n",
    "    text = \"%s, %s\"%(greeting, name)\n",
    "    return {\"text\": text, \"text2\": \"%s-%s\"%(text, text) }\n",
    "\n",
    "def to_obj(text):\n",
    "    return text\n",
    "\n",
    "def test3(text, text2):\n",
    "    print(\"test3: %s: %s\"%(text, text2))\n",
    "    \n",
    "def test4(text1, text2):\n",
    "    print(\"test4: %s: %s\"%(text1, text2))\n",
    "\n",
    "def endl():\n",
    "    print()\n",
    "\n",
    "flow = utflow.TaskFlow()\n",
    "\n",
    "@flow.start_next()\n",
    "def test1(_):\n",
    "    _.greeting = \"Hello\"\n",
    "    _.name = \"world\"\n",
    "    \n",
    "    # case1: 'text' and 'text2' are used as input arguments for test3 \n",
    "    print(\"case1\")\n",
    "    _ >> hello >> test3 >> endl\n",
    "    \n",
    "    # case2: 'text' is given by 'functools.partial' as first positional argument.\n",
    "    #        'text' field in the result of 'hello' is overwritten.\n",
    "    print(\"case2: functools.partial\")\n",
    "    print(\"       bound positional(text), and additionaly set by kwargs (text, text2)\")\n",
    "    _ >> hello >> functools.partial(test3, \", is the greeting\") >> endl\n",
    "    \n",
    "    # case3: 'text' and 'text2' are used as input arguments for test3.\n",
    "    #        bound parameter of 'partial_lazy' is ignored.\n",
    "    print(\"case3: partial_lazy\")\n",
    "    print(\"       bound positional(wildcard), and additionaly set by kwargs (text, text2)\")\n",
    "    print(\"       positional argument is ignored.\")\n",
    "    _ >> hello >> partial_lazy(test3, \", is the greeting\") >> endl\n",
    "    \n",
    "    # case4: 'text' is given by 'functools.partial' as keyword argument. \n",
    "    #        'text2' is given as a second positional parameter args, which is passed from result of 'to_obj'\n",
    "    print(\"case4: functools.partial, bound positional (text1)\")\n",
    "    _ >> hello >> to_obj >> functools.partial(test4, \", is the greeting\") >> endl\n",
    "\n",
    "    # case5: 'text1' is given as a first positional args, which is passed from result of 'to_obj',\n",
    "    #        'text2' is given by 'functools.partial' as keyword argument. \n",
    "    print(\"case5: functools.partial, bound keyword (text2)\")\n",
    "    _ >> hello >> to_obj >> functools.partial(test4, text2=\", is the greeting\") >> endl\n",
    "\n",
    "    # case6: non-named result of 'to_obj' is treated as a first positional args for test4,\n",
    "    #        and 'text2' is given by 'partial_lazy' as the second positional argument.\n",
    "    print(\"case6: partial_lazy, bound positional (wildcard)\")\n",
    "    print(\"       positional argument is interpreted as second positional variable\")\n",
    "    _ >> hello >> to_obj >> partial_lazy(test4, \", is the greeting\") >> endl\n",
    "\n",
    "    # case7: when using 'partial_lazy' with kwargs, result is same as case5 and case6.\n",
    "    print(\"case7: partial_lazy, bound keyword (text2)\")\n",
    "    _ >> hello >> to_obj >> partial_lazy(test4, text2=\", is the greeting\") >> endl"
   ]
  },
  {
   "cell_type": "code",
   "execution_count": null,
   "metadata": {},
   "outputs": [],
   "source": []
  },
  {
   "cell_type": "code",
   "execution_count": null,
   "metadata": {},
   "outputs": [],
   "source": []
  }
 ],
 "metadata": {
  "kernelspec": {
   "display_name": "Python 3",
   "language": "python",
   "name": "python3"
  },
  "language_info": {
   "codemirror_mode": {
    "name": "ipython",
    "version": 3
   },
   "file_extension": ".py",
   "mimetype": "text/x-python",
   "name": "python",
   "nbconvert_exporter": "python",
   "pygments_lexer": "ipython3",
   "version": "3.7.4"
  }
 },
 "nbformat": 4,
 "nbformat_minor": 4
}
